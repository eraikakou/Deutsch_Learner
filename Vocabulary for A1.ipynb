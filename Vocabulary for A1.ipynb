{
 "cells": [
  {
   "cell_type": "markdown",
   "id": "2e9c379a",
   "metadata": {},
   "source": [
    "# Basic Verbs\n",
    "\n",
    "1. **μαθαίνω** = lernen\n",
    "1. **πίνω** = trinken\n",
    "1. **παίρνω** = nehmen\n",
    "1. **παίρνω στα σοβαρά** = ernst nehmen\n",
    "1. **δίνω, προσφέρω** = geben\n",
    "1. **ανήκω** = gehören + D\n",
    "1. **χαρίζω, δωρίζω** = schenken\n",
    "1. **βλάπτω** = schaden + D \n",
    "1. **διαβάζω** = lesen\n",
    "1. **αγοράζω** = kaufen\n",
    "1. **πηγαίνω, οδηγώ** = fahren nach\n",
    "1. **αναχωρώ** = abfahren\n",
    "1. **αποβιβάζομαι, κατεβαίνω** = aus|steigen\n",
    "1. **πηγαίνω** = gehen\n",
    "1. **μένω** = bleiben\n",
    "1. **ρωτάω** = fragen\n",
    "1. **τρώω** = essen\n",
    "1. **τηλεφωνώ** = an|rufen\n",
    "1. **λέω** = sagen\n",
    "1. **πληρώνω** = bezahlen\n",
    "1. **γίνομαι** = werden\n",
    "1. **καπνίζω** = rauchen\n",
    "1. **κάνω** = machen\n",
    "1. **βοηθάω** = helfen +D\n",
    "1. **δανείζω** = leihen\n",
    "1. **χρησιμοποιώ** = benutzen\n",
    "1. **βλέπω τηλεόραση** = fern|sehen\n",
    "1. **μπαίνω, εισέρχομαι** = ein|treten\n",
    "1. **παίρνω μαζί μου** = mit|nehmen\n",
    "1. **ξοδεύω για** = aus|geben für \n",
    "1. **επισκέπτομαι** = besuchen\n",
    "1. **σηκώνομαι** = auf|stehen\n",
    "1. **φεύγω** = weggehen\n",
    "1. **ταΐζω** = füttern\n",
    "1. **περιμένω** = warten\n",
    "1. **σχεδιάζω** = zeichnen\n",
    "1. **βρίσκω** = finden\n",
    "1. **χρειάζομαι** = brauchen\n",
    "1. **θα ήθελα** = möchten\n",
    "1. **θέλω** = wollen\n",
    "1. **συμπαθώ, μου αρέσει** = mögen"
   ]
  },
  {
   "cell_type": "markdown",
   "id": "88ca19b8",
   "metadata": {},
   "source": [
    "# Adverbs, Pronouns\n",
    "\n",
    "1. **εδώ** = hier\n",
    "1. **πάντα** = immer\n",
    "1. **πρώτα, αρχικά** = zuerst\n",
    "1. **μήπως, ίσως** = vielleicht\n",
    "1. **αργότερα** = später\n",
    "1. **τώρα** = jetzt\n",
    "1. **κάτι** = etwas\n",
    "1. **αμέσως** = sofort\n",
    "1. **σήμερα** = heute\n",
    "1. **μετά** = dann\n",
    "1. **κανείς, κανένας** = niemand\n",
    "1. **τόσο πολλά** = so viel\n",
    "1. **αύριο** = morgen\n",
    "1. **έξω** = draußen\n",
    "1. **εκεί** = da, dort\n",
    "1. **εκεί απέναντι** = da drüben"
   ]
  },
  {
   "cell_type": "markdown",
   "id": "5d5ecd2c",
   "metadata": {},
   "source": [
    "# Adjectives\n",
    "\n",
    "1. **ευγενικός** = höflich\n",
    "1. **χαλασμένος** = kaputt\n",
    "1. **μόνος** = allein\n",
    "1. **ήσυχος** = ruhig\n",
    "1. **ακριβής στην ώρα μου** = pünktlich"
   ]
  },
  {
   "cell_type": "markdown",
   "id": "466d49a6",
   "metadata": {},
   "source": [
    "# Hobbies \n",
    "\n",
    "<img width=\"1204\" alt=\"image\" src=\"https://github.com/eraikakou/Deutsch_Learner/assets/28102493/8c0788d9-3706-4c69-be29-6e5faf80cc73\">\n",
    "\n",
    "\n",
    "1. **σκάκι, παίζω σκάκι** = das Schach, -s, Schach spielen \n",
    "1. **ποδήλατο** = das Fahrrad, -räder\n",
    "1. **παίζω κιθάρα** = Gitarre spielen\n",
    "1. **πηγαίνω σινεμά** = ins Kino gehen\n",
    "1. **ποδόσφαιρο** = der Fußball, -bälle\n",
    "1. **ιππεύω** = reiten, das Reiten\n",
    "1. **σκύλος** = der Hund, -e\n",
    "1. **βιβλίο** = das Buch, Bücher\n",
    "1. **πάω για ύπνο** = ins Bett gehen\n",
    "1. **στην συναυλία** = ins Konzert\n",
    "1. **βλέπω τηλεόραση** = fern|sehen\n",
    "1. **μπάλα** = der Ball, Bälle\n",
    "1. **ελεύθερος χρόνος** = die Freizeit, -\n",
    "1. **κέφι, όρεξη, διάθεση** = die Lust, Lüste"
   ]
  },
  {
   "cell_type": "markdown",
   "id": "680729ac",
   "metadata": {},
   "source": [
    "# Household\n",
    "\n",
    "<img width=\"1079\" alt=\"image\" src=\"https://github.com/eraikakou/Deutsch_Learner/assets/28102493/1b34adf9-b567-470a-87cf-23437f3b36e6\">\n",
    "\n",
    "\n",
    "1. **λουλούδι** = die Blume, -n\n",
    "1. **ποτίζω** = gießen\n",
    "1. **παράθυρο** = das Fenster, -\n",
    "1. **ανοίγω** = öffnen\n",
    "1. **συγυρίζω, τακτοποιώ** = auf|räumen\n",
    "1. **δωμάτιο** = das Zimmer, -\n",
    "1. **κανόνας** = die Regel, -n\n",
    "1. **στον κήπο** = im Garten\n",
    "1. **κουζίνα** = die Küche, -n, die griechische Küche"
   ]
  },
  {
   "cell_type": "markdown",
   "id": "3cd3a639",
   "metadata": {},
   "source": [
    "# Back to School\n",
    "\n",
    "<img width=\"889\" alt=\"image\" src=\"https://github.com/eraikakou/Deutsch_Learner/assets/28102493/beb9177d-9372-4c8b-b84b-bb41447c24dd\">\n",
    "\n",
    "\n",
    "1. **εργασία για το σπίτι** = die Hausaufgabe, -n\n",
    "1. **κάνω τις εργασίες για το σπίτι** = die Hausaufgaben machen\n",
    "1. **φοιτητής** = der Student, -en\n",
    "1. **σχολείο** = die Schule, -n\n",
    "1. **έκθεση** = der Aufsatz, -sätze\n",
    "1. **λάθος** = der Fehler, -\n",
    "1. **λεξικό** = das Wörterbuch, -bücher"
   ]
  },
  {
   "cell_type": "markdown",
   "id": "b0b1755a",
   "metadata": {},
   "source": [
    "# Clothes\n",
    "\n",
    "<img width=\"1199\" alt=\"image\" src=\"https://github.com/eraikakou/Deutsch_Learner/assets/28102493/80f29fcc-5dcb-4afb-ad87-40ce7b731ce6\">\n",
    "\n",
    "\n",
    "1. **αδιάβροχο (παλτό)** = der Regenmantel, -mäntel\n",
    "1. **ομπρέλα** = der Regenschirm, -e\n",
    "1. **καπέλο** = der Hut, Hüte \n",
    "1. **δαχτυλίδι** = der Ring, -e"
   ]
  },
  {
   "cell_type": "markdown",
   "id": "61dfd7cc",
   "metadata": {},
   "source": [
    "# Electronics\n",
    "\n",
    "<img width=\"509\" alt=\"image\" src=\"https://github.com/eraikakou/Deutsch_Learner/assets/28102493/53e5dd6d-d6af-4e4f-a792-827aa8e3d690\">\n",
    "\n",
    "1. **εκτυπωτής** = der Drucker, - \n",
    "1. **φωτογραφική μηχανή** = der Fotoapparat, -e\n",
    "1. **ηλεκτρονικό παιχνίδι** = das Computerspiel, -e\n",
    "1. **γραφομηχανή** = die Schreibmaschine, -n\n",
    "1. **(ηλεκτρονικός) υπολογιστής** = der Computer\n",
    "1. **κινητό τηλέφωνο (συσκευή)** = das Handy, -s"
   ]
  },
  {
   "cell_type": "markdown",
   "id": "a8da091b",
   "metadata": {},
   "source": [
    "# Travel\n",
    "\n",
    "<img width=\"506\" alt=\"image\" src=\"https://github.com/eraikakou/Deutsch_Learner/assets/28102493/29700a36-9f13-4dbd-8d41-87188068c9a3\">\n",
    "\n",
    "1. **αποσκευές** = das Gepäck, -\n",
    "1. **παρκάρω** = parken"
   ]
  },
  {
   "cell_type": "markdown",
   "id": "f510cf51",
   "metadata": {},
   "source": [
    "# Other\n",
    "\n",
    "1. **συμπεριφορά** = das Verhalten, -\n",
    "1. **φήμη** = der Ruf, -e\n",
    "1. **πράξη, δράση** = die Tat, -en\n",
    "1. **λογαριασμός** = die Rechnung, -en\n",
    "1. **γραφείο** = das Büro, -s\n",
    "1. **αλήθεια** = die Wahrheit, -en\n",
    "1. **τρένο** = der Zug, Züge\n",
    "1. **νοσοκομείο** = das Krankenhaus, -häuser\n",
    "1. **οι φτωχοί** = die Armen\n",
    "1. **χρήματα, λεφτά, χρήμα** = das Geld\n",
    "1. **σημαία** = die Fahne, -n\n",
    "1. **κατάστημα** = das Geschäft, -e\n",
    "1. **ανθοπωλείο** = das Blumengeschäft\n",
    "1. **τηλεφωνικός κατάλογος** = das Telefonbuch, -bücher"
   ]
  },
  {
   "cell_type": "code",
   "execution_count": null,
   "id": "f7ec5e0e",
   "metadata": {},
   "outputs": [],
   "source": []
  }
 ],
 "metadata": {
  "hide_input": false,
  "kernelspec": {
   "display_name": "Python 3",
   "language": "python",
   "name": "python3"
  },
  "language_info": {
   "codemirror_mode": {
    "name": "ipython",
    "version": 3
   },
   "file_extension": ".py",
   "mimetype": "text/x-python",
   "name": "python",
   "nbconvert_exporter": "python",
   "pygments_lexer": "ipython3",
   "version": "3.8.8"
  },
  "toc": {
   "base_numbering": 1,
   "nav_menu": {},
   "number_sections": true,
   "sideBar": false,
   "skip_h1_title": false,
   "title_cell": "Table of Contents",
   "title_sidebar": "Contents",
   "toc_cell": false,
   "toc_position": {
    "height": "759px",
    "left": "23px",
    "top": "111.141px",
    "width": "272.391px"
   },
   "toc_section_display": true,
   "toc_window_display": true
  }
 },
 "nbformat": 4,
 "nbformat_minor": 5
}
